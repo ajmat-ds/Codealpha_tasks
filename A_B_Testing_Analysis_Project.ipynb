{
 "cells": [
  {
   "cell_type": "code",
   "execution_count": 2,
   "id": "f2a28227",
   "metadata": {},
   "outputs": [],
   "source": [
    "# Testing Analysis Project\n",
    "\n",
    "# Step 1 Importing Libraries\n",
    "\n",
    "import numpy as np\n",
    "import pandas as pd\n",
    "import seaborn as sns\n",
    "import matplotlib.pyplot as plt\n",
    "from scipy import stats\n",
    "from statsmodels.stats.proportion import proportions_ztest\n"
   ]
  },
  {
   "cell_type": "code",
   "execution_count": 3,
   "id": "b39e70de",
   "metadata": {},
   "outputs": [],
   "source": [
    "# Step 2 Generate Random A/B Test Data\n",
    "np.random.seed(42)\n",
    "\n",
    "n_A = 5000  # sample size for group A\n",
    "n_B = 5000  # sample size for group B\n",
    "\n",
    "# Simulate conversion outcomes (0 = no, 1 = yes)\n",
    "conv_rate_A = 0.12  # baseline conversion rate\n",
    "conv_rate_B = 0.14  # higher conversion rate (test version)\n",
    "\n",
    "group_A = np.random.binomial(1, conv_rate_A, n_A)\n",
    "group_B = np.random.binomial(1, conv_rate_B, n_B)\n",
    "\n",
    "# Combine into DataFrame\n",
    "data = pd.DataFrame({\n",
    "    'user_id': range(1, n_A + n_B + 1),\n",
    "    'group': ['A'] * n_A + ['B'] * n_B,\n",
    "    'converted': np.concatenate([group_A, group_B])\n",
    "})\n"
   ]
  },
  {
   "cell_type": "code",
   "execution_count": 6,
   "id": "d8a4fbe3",
   "metadata": {},
   "outputs": [
    {
     "name": "stdout",
     "output_type": "stream",
     "text": [
      "\n",
      "✅ Basic Info:\n",
      "          mean       std  count  sum\n",
      "group                              \n",
      "A      0.1156  0.319777   5000  578\n",
      "B      0.1326  0.339176   5000  663\n"
     ]
    }
   ],
   "source": [
    "# Step 3: Explore Data\n",
    "print(\"\\n✅ Basic Info:\\n\", data.groupby('group')['converted'].agg(['mean','std', 'count', 'sum']))\n"
   ]
  },
  {
   "cell_type": "code",
   "execution_count": 9,
   "id": "d6fd257d",
   "metadata": {},
   "outputs": [
    {
     "name": "stderr",
     "output_type": "stream",
     "text": [
      "C:\\Users\\aajjm\\AppData\\Local\\Temp\\ipykernel_12368\\648985776.py:3: FutureWarning: \n",
      "\n",
      "The `ci` parameter is deprecated. Use `errorbar=('ci', 95)` for the same effect.\n",
      "\n",
      "  sns.barplot(data=data, x='group', y='converted', ci=95)\n"
     ]
    },
    {
     "data": {
      "image/png": "[encoded data removed]",
      "text/plain": [
       "<Figure size 400x400 with 1 Axes>"
      ]
     },
     "metadata": {},
     "output_type": "display_data"
    }
   ],
   "source": [
    "# Step 4: Visualization\n",
    "plt.figure(figsize=(4,4))\n",
    "sns.barplot(data=data, x='group', y='converted', ci=95)\n",
    "plt.title('Conversion Rate by Group')\n",
    "plt.ylabel('Conversion Rate')\n",
    "plt.show()\n",
    "\n"
   ]
  },
  {
   "cell_type": "code",
   "execution_count": 11,
   "id": "b3d432cc",
   "metadata": {
    "scrolled": true
   },
   "outputs": [
    {
     "name": "stdout",
     "output_type": "stream",
     "text": [
      "\n",
      "🧪 Z-test result:\n",
      "Z-statistic = -2.58\n",
      "P-value     = 0.01\n"
     ]
    }
   ],
   "source": [
    "# Step 5: Hypothesis Testing - Proportion Z-Test\n",
    "# H0: p_A = p_B\n",
    "# H1: p_A ≠ p_B\n",
    "\n",
    "success = data.groupby('group')['converted'].sum().values\n",
    "nobs = data.groupby('group')['converted'].count().values\n",
    "\n",
    "z_stat, p_val = proportions_ztest(count=success, nobs=nobs, alternative='two-sided')\n",
    "\n",
    "print(f\"\\n🧪 Z-test result:\")\n",
    "print(f\"Z-statistic = {z_stat:.2f}\")\n",
    "print(f\"P-value     = {p_val:.2f}\")\n",
    "\"\"\" Since P-value is less than 0.05 it means that H0 is true \n",
    "\"\"\""
   ]
  },
  {
   "cell_type": "code",
   "execution_count": 14,
   "id": "daa881da",
   "metadata": {},
   "outputs": [
    {
     "name": "stdout",
     "output_type": "stream",
     "text": [
      "\n",
      "📊 Confidence Intervals:\n",
      "Group A: (0.10673729338716292, 0.12446270661283707)\n",
      "Group B: (0.12319963839919024, 0.14200036160080975)\n"
     ]
    }
   ],
   "source": [
    "# Step 6: Confidence Intervals for Conversion Rates\n",
    "from statsmodels.stats.api import proportion_confint\n",
    "\n",
    "confint_A = proportion_confint(count=success[0], nobs=nobs[0], alpha=0.05, method='normal')\n",
    "confint_B = proportion_confint(count=success[1], nobs=nobs[1], alpha=0.05, method='normal')\n",
    "\n",
    "print(\"\\n📊 Confidence Intervals:\")\n",
    "print(f\"Group A: {confint_A}\")\n",
    "print(f\"Group B: {confint_B}\")\n"
   ]
  },
  {
   "cell_type": "code",
   "execution_count": 16,
   "id": "32945a17",
   "metadata": {},
   "outputs": [
    {
     "name": "stdout",
     "output_type": "stream",
     "text": [
      "\n",
      " Effect Size (Cohen's h): -0.0516\n"
     ]
    }
   ],
   "source": [
    "# Step 7: Calculate Effect Size (Cohen's h)\n",
    "def cohens_h(p1, p2):\n",
    "    return 2 * (np.arcsin(np.sqrt(p1)) - np.arcsin(np.sqrt(p2)))\n",
    "\n",
    "p1 = success[0] / nobs[0]\n",
    "p2 = success[1] / nobs[1]\n",
    "effect_size = cohens_h(p1, p2)\n",
    "\n",
    "print(f\"\\n Effect Size (Cohen's h): {effect_size:.4f}\")\n",
    "\n"
   ]
  },
  {
   "cell_type": "code",
   "execution_count": 19,
   "id": "6fa86b51",
   "metadata": {},
   "outputs": [
    {
     "name": "stdout",
     "output_type": "stream",
     "text": [
      "\n",
      " Result: Statistically significant difference detected.\n"
     ]
    }
   ],
   "source": [
    "# Step 8: Conclusion\n",
    "if p_val < 0.05:\n",
    "    print(\"\\n Result: Statistically significant difference detected.\")\n",
    "else:\n",
    "    print(\"\\n Result: No statistically significant difference detected.\")\n"
   ]
  },
  {
   "cell_type": "code",
   "execution_count": null,
   "id": "209be6bd",
   "metadata": {},
   "outputs": [],
   "source": []
  }
 ],
 "metadata": {
  "kernelspec": {
   "display_name": "Python 3 (ipykernel)",
   "language": "python",
   "name": "python3"
  },
  "language_info": {
   "codemirror_mode": {
    "name": "ipython",
    "version": 3
   },
   "file_extension": ".py",
   "mimetype": "text/x-python",
   "name": "python",
   "nbconvert_exporter": "python",
   "pygments_lexer": "ipython3",
   "version": "3.11.5"
  }
 },
 "nbformat": 4,
 "nbformat_minor": 5
}
